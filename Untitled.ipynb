{
 "cells": [
  {
   "cell_type": "code",
   "execution_count": 1,
   "id": "514c71ad",
   "metadata": {},
   "outputs": [],
   "source": [
    "import random \n",
    "import numpy as np\n",
    "import pandas as pd\n",
    "import os\n",
    "import sys\n",
    "import seaborn as sn\n",
    "import matplotlib.pyplot as plt\n",
    "from numpy.linalg import *\n",
    "#np.random.seed(42)  # don't change this line\n",
    "\n",
    "import base64"
   ]
  },
  {
   "cell_type": "code",
   "execution_count": 2,
   "id": "f2c580ee",
   "metadata": {
    "scrolled": true
   },
   "outputs": [
    {
     "data": {
      "text/html": [
       "<div>\n",
       "<style scoped>\n",
       "    .dataframe tbody tr th:only-of-type {\n",
       "        vertical-align: middle;\n",
       "    }\n",
       "\n",
       "    .dataframe tbody tr th {\n",
       "        vertical-align: top;\n",
       "    }\n",
       "\n",
       "    .dataframe thead th {\n",
       "        text-align: right;\n",
       "    }\n",
       "</style>\n",
       "<table border=\"1\" class=\"dataframe\">\n",
       "  <thead>\n",
       "    <tr style=\"text-align: right;\">\n",
       "      <th></th>\n",
       "      <th>Timestamp</th>\n",
       "      <th>Operating System</th>\n",
       "      <th>CPU Cycle Rate (in GHz)</th>\n",
       "      <th>CPU Number of Cores</th>\n",
       "      <th>RAM (in GB)</th>\n",
       "      <th>Hard Drive Size (in GB)</th>\n",
       "      <th>GPU (short description)</th>\n",
       "    </tr>\n",
       "  </thead>\n",
       "  <tbody>\n",
       "    <tr>\n",
       "      <th>0</th>\n",
       "      <td>6/12/2021 23:05:22</td>\n",
       "      <td>Windows 10</td>\n",
       "      <td>1.8</td>\n",
       "      <td>4</td>\n",
       "      <td>8</td>\n",
       "      <td>256</td>\n",
       "      <td>intel uhd 620</td>\n",
       "    </tr>\n",
       "    <tr>\n",
       "      <th>1</th>\n",
       "      <td>6/13/2021 20:36:02</td>\n",
       "      <td>Windows 10</td>\n",
       "      <td>2.8</td>\n",
       "      <td>4</td>\n",
       "      <td>16</td>\n",
       "      <td>460</td>\n",
       "      <td>Intel(R) Iris(R) Xe Graphics</td>\n",
       "    </tr>\n",
       "    <tr>\n",
       "      <th>2</th>\n",
       "      <td>6/13/2021 22:31:11</td>\n",
       "      <td>MacOS</td>\n",
       "      <td>3.1</td>\n",
       "      <td>2</td>\n",
       "      <td>8</td>\n",
       "      <td>512</td>\n",
       "      <td>Intel Iris Plus Graphics 650</td>\n",
       "    </tr>\n",
       "    <tr>\n",
       "      <th>3</th>\n",
       "      <td>6/14/2021 13:31:30</td>\n",
       "      <td>Windows 10</td>\n",
       "      <td>3.5</td>\n",
       "      <td>4</td>\n",
       "      <td>16</td>\n",
       "      <td>1000</td>\n",
       "      <td>NVIDIA GeForce GTX 1070 Ti</td>\n",
       "    </tr>\n",
       "    <tr>\n",
       "      <th>4</th>\n",
       "      <td>6/14/2021 14:13:55</td>\n",
       "      <td>MacOS</td>\n",
       "      <td>1.6</td>\n",
       "      <td>2</td>\n",
       "      <td>8</td>\n",
       "      <td>256</td>\n",
       "      <td>Intel HD Graphics 6000 1536 MB</td>\n",
       "    </tr>\n",
       "    <tr>\n",
       "      <th>5</th>\n",
       "      <td>6/14/2021 15:48:34</td>\n",
       "      <td>MacOS</td>\n",
       "      <td>2.7</td>\n",
       "      <td>2</td>\n",
       "      <td>8</td>\n",
       "      <td>250</td>\n",
       "      <td>Intel Iris Graphics 6100 1536 MB</td>\n",
       "    </tr>\n",
       "    <tr>\n",
       "      <th>6</th>\n",
       "      <td>6/14/2021 19:29:57</td>\n",
       "      <td>MacOS</td>\n",
       "      <td>2.0</td>\n",
       "      <td>8</td>\n",
       "      <td>16</td>\n",
       "      <td>256</td>\n",
       "      <td>Apple M1</td>\n",
       "    </tr>\n",
       "    <tr>\n",
       "      <th>7</th>\n",
       "      <td>6/14/2021 21:02:57</td>\n",
       "      <td>MacOS</td>\n",
       "      <td>3.1</td>\n",
       "      <td>2</td>\n",
       "      <td>8</td>\n",
       "      <td>250</td>\n",
       "      <td>Apple designed</td>\n",
       "    </tr>\n",
       "    <tr>\n",
       "      <th>8</th>\n",
       "      <td>6/15/2021 8:51:40</td>\n",
       "      <td>Windows 10</td>\n",
       "      <td>2.3</td>\n",
       "      <td>16</td>\n",
       "      <td>32</td>\n",
       "      <td>1000</td>\n",
       "      <td>NVIDIA GeForce RTX 2070 Super</td>\n",
       "    </tr>\n",
       "    <tr>\n",
       "      <th>9</th>\n",
       "      <td>6/15/2021 8:54:05</td>\n",
       "      <td>MacOS</td>\n",
       "      <td>2.3</td>\n",
       "      <td>8</td>\n",
       "      <td>32</td>\n",
       "      <td>512</td>\n",
       "      <td>Radeon 560x</td>\n",
       "    </tr>\n",
       "  </tbody>\n",
       "</table>\n",
       "</div>"
      ],
      "text/plain": [
       "            Timestamp Operating System  CPU Cycle Rate (in GHz)  \\\n",
       "0  6/12/2021 23:05:22       Windows 10                      1.8   \n",
       "1  6/13/2021 20:36:02       Windows 10                      2.8   \n",
       "2  6/13/2021 22:31:11            MacOS                      3.1   \n",
       "3  6/14/2021 13:31:30       Windows 10                      3.5   \n",
       "4  6/14/2021 14:13:55            MacOS                      1.6   \n",
       "5  6/14/2021 15:48:34            MacOS                      2.7   \n",
       "6  6/14/2021 19:29:57            MacOS                      2.0   \n",
       "7  6/14/2021 21:02:57            MacOS                      3.1   \n",
       "8   6/15/2021 8:51:40       Windows 10                      2.3   \n",
       "9   6/15/2021 8:54:05            MacOS                      2.3   \n",
       "\n",
       "   CPU Number of Cores  RAM (in GB)  Hard Drive Size (in GB)  \\\n",
       "0                    4            8                      256   \n",
       "1                    4           16                      460   \n",
       "2                    2            8                      512   \n",
       "3                    4           16                     1000   \n",
       "4                    2            8                      256   \n",
       "5                    2            8                      250   \n",
       "6                    8           16                      256   \n",
       "7                    2            8                      250   \n",
       "8                   16           32                     1000   \n",
       "9                    8           32                      512   \n",
       "\n",
       "            GPU (short description)  \n",
       "0                     intel uhd 620  \n",
       "1      Intel(R) Iris(R) Xe Graphics  \n",
       "2      Intel Iris Plus Graphics 650  \n",
       "3        NVIDIA GeForce GTX 1070 Ti  \n",
       "4    Intel HD Graphics 6000 1536 MB  \n",
       "5  Intel Iris Graphics 6100 1536 MB  \n",
       "6                          Apple M1  \n",
       "7                    Apple designed  \n",
       "8     NVIDIA GeForce RTX 2070 Super  \n",
       "9                       Radeon 560x  "
      ]
     },
     "execution_count": 2,
     "metadata": {},
     "output_type": "execute_result"
    }
   ],
   "source": [
    "new_sur = pd.read_csv(\"2022-06-14-survey.txt\")\n",
    "new_sur.head(7)\n",
    "old_sur = pd.read_csv(\"2021-06-15-survey.txt\")\n",
    "old_sur.head(10)"
   ]
  },
  {
   "cell_type": "code",
   "execution_count": 3,
   "id": "385a242e",
   "metadata": {},
   "outputs": [
    {
     "data": {
      "text/plain": [
       "Timestamp                   object\n",
       "Operating System            object\n",
       "CPU Cycle Rate (in GHz)    float64\n",
       "CPU Number of Cores          int64\n",
       "RAM (in GB)                  int64\n",
       "Hard Drive Size (in GB)      int64\n",
       "GPU (short description)     object\n",
       "dtype: object"
      ]
     },
     "execution_count": 3,
     "metadata": {},
     "output_type": "execute_result"
    }
   ],
   "source": [
    "old_sur.dtypes"
   ]
  },
  {
   "cell_type": "code",
   "execution_count": 4,
   "id": "1f873ac4",
   "metadata": {
    "scrolled": false
   },
   "outputs": [
    {
     "data": {
      "text/plain": [
       "(array([20.,  0.,  0.,  0.,  0., 35.,  0.,  0.,  0.,  1.]),\n",
       " array([0. , 0.2, 0.4, 0.6, 0.8, 1. , 1.2, 1.4, 1.6, 1.8, 2. ]),\n",
       " <BarContainer object of 10 artists>)"
      ]
     },
     "execution_count": 4,
     "metadata": {},
     "output_type": "execute_result"
    },
    {
     "data": {
      "image/png": "[encoded data removed]",
      "text/plain": [
       "<Figure size 432x288 with 1 Axes>"
      ]
     },
     "metadata": {
      "needs_background": "light"
     },
     "output_type": "display_data"
    }
   ],
   "source": [
    "#OS = old_sur['Operating System']\n",
    "plt.hist(old_sur['Operating System'])"
   ]
  },
  {
   "cell_type": "code",
   "execution_count": 5,
   "id": "c9a2c66f",
   "metadata": {
    "scrolled": true
   },
   "outputs": [
    {
     "data": {
      "text/plain": [
       "(array([40.,  6.,  9.,  0.,  1.]),\n",
       " array([ 2. ,  4.8,  7.6, 10.4, 13.2, 16. ]),\n",
       " <BarContainer object of 5 artists>)"
      ]
     },
     "execution_count": 5,
     "metadata": {},
     "output_type": "execute_result"
    },
    {
     "data": {
      "image/png": "[encoded data removed]",
      "text/plain": [
       "<Figure size 432x288 with 1 Axes>"
      ]
     },
     "metadata": {
      "needs_background": "light"
     },
     "output_type": "display_data"
    }
   ],
   "source": [
    "plt.hist(old_sur['CPU Number of Cores'], bins=5, rwidth=0.9,\n",
    "                   color='#607c8e')"
   ]
  },
  {
   "cell_type": "code",
   "execution_count": 6,
   "id": "acd11b51",
   "metadata": {
    "scrolled": true
   },
   "outputs": [
    {
     "data": {
      "text/plain": [
       "<matplotlib.collections.PathCollection at 0x7fbb16f67a60>"
      ]
     },
     "execution_count": 6,
     "metadata": {},
     "output_type": "execute_result"
    },
    {
     "data": {
      "image/png": "[encoded data removed]",
      "text/plain": [
       "<Figure size 432x288 with 1 Axes>"
      ]
     },
     "metadata": {
      "needs_background": "light"
     },
     "output_type": "display_data"
    }
   ],
   "source": [
    "plt.scatter(old_sur['CPU Number of Cores'], old_sur['CPU Cycle Rate (in GHz)'])"
   ]
  },
  {
   "cell_type": "code",
   "execution_count": 7,
   "id": "1868d58a",
   "metadata": {
    "scrolled": true
   },
   "outputs": [
    {
     "data": {
      "image/png": "[encoded data removed]",
      "text/plain": [
       "<Figure size 432x288 with 2 Axes>"
      ]
     },
     "metadata": {
      "needs_background": "light"
     },
     "output_type": "display_data"
    }
   ],
   "source": [
    "corr_matrix = old_sur.corr()\n",
    "sn.heatmap(corr_matrix, annot=True)\n",
    "plt.show()"
   ]
  },
  {
   "cell_type": "code",
   "execution_count": 10,
   "id": "7182ae4a",
   "metadata": {
    "scrolled": true
   },
   "outputs": [
    {
     "ename": "AttributeError",
     "evalue": "'Series' object has no attribute 'contains'",
     "output_type": "error",
     "traceback": [
      "\u001b[0;31m---------------------------------------------------------------------------\u001b[0m",
      "\u001b[0;31mAttributeError\u001b[0m                            Traceback (most recent call last)",
      "Input \u001b[0;32mIn [10]\u001b[0m, in \u001b[0;36m<cell line: 3>\u001b[0;34m()\u001b[0m\n\u001b[1;32m      1\u001b[0m old_sur[\u001b[38;5;124m'\u001b[39m\u001b[38;5;124mGPU (short description)\u001b[39m\u001b[38;5;124m'\u001b[39m] \u001b[38;5;241m=\u001b[39m old_sur[\u001b[38;5;124m'\u001b[39m\u001b[38;5;124mGPU (short description)\u001b[39m\u001b[38;5;124m'\u001b[39m]\u001b[38;5;241m.\u001b[39mastype(\u001b[38;5;124m'\u001b[39m\u001b[38;5;124mstring\u001b[39m\u001b[38;5;124m'\u001b[39m)\n\u001b[1;32m      2\u001b[0m old_sur[\u001b[38;5;124m'\u001b[39m\u001b[38;5;124mIntel?\u001b[39m\u001b[38;5;124m'\u001b[39m] \u001b[38;5;241m=\u001b[39m \u001b[38;5;241m0\u001b[39m\n\u001b[0;32m----> 3\u001b[0m old_sur\u001b[38;5;241m.\u001b[39mloc[\u001b[43mold_sur\u001b[49m\u001b[43m[\u001b[49m\u001b[38;5;124;43m'\u001b[39;49m\u001b[38;5;124;43mGPU (short description)\u001b[39;49m\u001b[38;5;124;43m'\u001b[39;49m\u001b[43m]\u001b[49m\u001b[38;5;241;43m.\u001b[39;49m\u001b[43mcontains\u001b[49m(\u001b[38;5;124m'\u001b[39m\u001b[38;5;124mIntel\u001b[39m\u001b[38;5;124m'\u001b[39m), \u001b[38;5;124m'\u001b[39m\u001b[38;5;124mIntel\u001b[39m\u001b[38;5;124m'\u001b[39m] \u001b[38;5;241m=\u001b[39m \u001b[38;5;241m1\u001b[39m\n",
      "File \u001b[0;32m~/opt/anaconda3/lib/python3.9/site-packages/pandas/core/generic.py:5575\u001b[0m, in \u001b[0;36mNDFrame.__getattr__\u001b[0;34m(self, name)\u001b[0m\n\u001b[1;32m   5568\u001b[0m \u001b[38;5;28;01mif\u001b[39;00m (\n\u001b[1;32m   5569\u001b[0m     name \u001b[38;5;129;01mnot\u001b[39;00m \u001b[38;5;129;01min\u001b[39;00m \u001b[38;5;28mself\u001b[39m\u001b[38;5;241m.\u001b[39m_internal_names_set\n\u001b[1;32m   5570\u001b[0m     \u001b[38;5;129;01mand\u001b[39;00m name \u001b[38;5;129;01mnot\u001b[39;00m \u001b[38;5;129;01min\u001b[39;00m \u001b[38;5;28mself\u001b[39m\u001b[38;5;241m.\u001b[39m_metadata\n\u001b[1;32m   5571\u001b[0m     \u001b[38;5;129;01mand\u001b[39;00m name \u001b[38;5;129;01mnot\u001b[39;00m \u001b[38;5;129;01min\u001b[39;00m \u001b[38;5;28mself\u001b[39m\u001b[38;5;241m.\u001b[39m_accessors\n\u001b[1;32m   5572\u001b[0m     \u001b[38;5;129;01mand\u001b[39;00m \u001b[38;5;28mself\u001b[39m\u001b[38;5;241m.\u001b[39m_info_axis\u001b[38;5;241m.\u001b[39m_can_hold_identifiers_and_holds_name(name)\n\u001b[1;32m   5573\u001b[0m ):\n\u001b[1;32m   5574\u001b[0m     \u001b[38;5;28;01mreturn\u001b[39;00m \u001b[38;5;28mself\u001b[39m[name]\n\u001b[0;32m-> 5575\u001b[0m \u001b[38;5;28;01mreturn\u001b[39;00m \u001b[38;5;28;43mobject\u001b[39;49m\u001b[38;5;241;43m.\u001b[39;49m\u001b[38;5;21;43m__getattribute__\u001b[39;49m\u001b[43m(\u001b[49m\u001b[38;5;28;43mself\u001b[39;49m\u001b[43m,\u001b[49m\u001b[43m \u001b[49m\u001b[43mname\u001b[49m\u001b[43m)\u001b[49m\n",
      "\u001b[0;31mAttributeError\u001b[0m: 'Series' object has no attribute 'contains'"
     ]
    }
   ],
   "source": [
    "old_sur['GPU (short description)'] = old_sur['GPU (short description)'].astype('string')\n",
    "old_sur['Intel?'] = 0\n",
    "old_sur.loc[old_sur['GPU (short description)'].contains('Intel'), 'Intel' = 1"
   ]
  },
  {
   "cell_type": "code",
   "execution_count": null,
   "id": "7339a791",
   "metadata": {},
   "outputs": [],
   "source": []
  }
 ],
 "metadata": {
  "kernelspec": {
   "display_name": "Python 3 (ipykernel)",
   "language": "python",
   "name": "python3"
  },
  "language_info": {
   "codemirror_mode": {
    "name": "ipython",
    "version": 3
   },
   "file_extension": ".py",
   "mimetype": "text/x-python",
   "name": "python",
   "nbconvert_exporter": "python",
   "pygments_lexer": "ipython3",
   "version": "3.9.12"
  }
 },
 "nbformat": 4,
 "nbformat_minor": 5
}
