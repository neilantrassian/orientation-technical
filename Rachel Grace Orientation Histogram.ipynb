{
 "cells": [
  {
   "cell_type": "code",
   "execution_count": 4,
   "id": "77fd0eef",
   "metadata": {},
   "outputs": [
    {
     "name": "stdout",
     "output_type": "stream",
     "text": [
      "Hello World\n"
     ]
    }
   ],
   "source": [
    "# initial test\n",
    "print('Hello World')"
   ]
  },
  {
   "cell_type": "code",
   "execution_count": 5,
   "id": "001809b6",
   "metadata": {},
   "outputs": [],
   "source": [
    "# import matplotlib\n",
    "import matplotlib.pyplot as plt"
   ]
  },
  {
   "cell_type": "code",
   "execution_count": 6,
   "id": "f67124d3",
   "metadata": {},
   "outputs": [],
   "source": [
    "# import numpy for generating random data\n",
    "import numpy as np"
   ]
  },
  {
   "cell_type": "code",
   "execution_count": 7,
   "id": "c8fe8aa3",
   "metadata": {},
   "outputs": [],
   "source": [
    "# a jupyter notebook thing - may not be needed with Python 3+\n",
    "%matplotlib inline"
   ]
  },
  {
   "cell_type": "code",
   "execution_count": 8,
   "id": "0833acb7",
   "metadata": {},
   "outputs": [],
   "source": [
    "# define values for our dataset, then generate the dataset with given mean and standard deviation\n",
    "mu = 80\n",
    "sigma = 7\n",
    "x = np.random.normal(mu, sigma, size=200)"
   ]
  },
  {
   "cell_type": "code",
   "execution_count": 9,
   "id": "025c7a89",
   "metadata": {},
   "outputs": [
    {
     "data": {
      "image/png": "[encoded data removed]",
      "text/plain": [
       "<Figure size 432x288 with 1 Axes>"
      ]
     },
     "metadata": {
      "needs_background": "light"
     },
     "output_type": "display_data"
    }
   ],
   "source": [
    "# plot the histogram, assigning density, histtype, color, and opacity\n",
    "plt.hist(x, 20,\n",
    "        density=True,\n",
    "        histtype='bar',\n",
    "        facecolor='b',\n",
    "        alpha=0.5)\n",
    "plt.show()"
   ]
  },
  {
   "cell_type": "code",
   "execution_count": 10,
   "id": "77afdf46",
   "metadata": {},
   "outputs": [],
   "source": [
    "# import csv so that we can read csv files\n",
    "import csv"
   ]
  },
  {
   "cell_type": "code",
   "execution_count": 11,
   "id": "47f20660",
   "metadata": {},
   "outputs": [],
   "source": [
    "# import pandas, then read our csv file and assign it to variable dta\n",
    "import pandas as pd\n",
    "dta = pd.read_csv(\"2022-06-14-survey.csv\")"
   ]
  },
  {
   "cell_type": "code",
   "execution_count": 12,
   "id": "84622a47",
   "metadata": {},
   "outputs": [
    {
     "data": {
      "text/html": [
       "<div>\n",
       "<style scoped>\n",
       "    .dataframe tbody tr th:only-of-type {\n",
       "        vertical-align: middle;\n",
       "    }\n",
       "\n",
       "    .dataframe tbody tr th {\n",
       "        vertical-align: top;\n",
       "    }\n",
       "\n",
       "    .dataframe thead th {\n",
       "        text-align: right;\n",
       "    }\n",
       "</style>\n",
       "<table border=\"1\" class=\"dataframe\">\n",
       "  <thead>\n",
       "    <tr style=\"text-align: right;\">\n",
       "      <th></th>\n",
       "      <th>Timestamp</th>\n",
       "      <th>Operating System</th>\n",
       "      <th>CPU Cycle Rate (in GHz)</th>\n",
       "      <th>CPU Number of Cores (int)</th>\n",
       "      <th>RAM (in GB)</th>\n",
       "      <th>Hard Drive Size (in GB)</th>\n",
       "      <th>GPU (short description as a string)</th>\n",
       "      <th>GPU CUDA Number of Cores (int)</th>\n",
       "    </tr>\n",
       "  </thead>\n",
       "  <tbody>\n",
       "    <tr>\n",
       "      <th>0</th>\n",
       "      <td>5/18/2022 12:30:44</td>\n",
       "      <td>MacOS</td>\n",
       "      <td>2.5</td>\n",
       "      <td>2</td>\n",
       "      <td>16</td>\n",
       "      <td>500</td>\n",
       "      <td>Intel Iris Plus Graphics 640 1536 MB</td>\n",
       "      <td>0</td>\n",
       "    </tr>\n",
       "    <tr>\n",
       "      <th>1</th>\n",
       "      <td>1/1/1970 0:00:00</td>\n",
       "      <td>Any Linux</td>\n",
       "      <td>500.0</td>\n",
       "      <td>-3</td>\n",
       "      <td>256</td>\n",
       "      <td>5</td>\n",
       "      <td>rtx 48000</td>\n",
       "      <td>6002283</td>\n",
       "    </tr>\n",
       "    <tr>\n",
       "      <th>2</th>\n",
       "      <td>6/8/2022 17:39:20</td>\n",
       "      <td>Windows</td>\n",
       "      <td>2.8</td>\n",
       "      <td>4</td>\n",
       "      <td>16</td>\n",
       "      <td>512</td>\n",
       "      <td>Intel Iris Xe Graphics</td>\n",
       "      <td>4</td>\n",
       "    </tr>\n",
       "    <tr>\n",
       "      <th>3</th>\n",
       "      <td>6/12/2022 21:25:43</td>\n",
       "      <td>Windows</td>\n",
       "      <td>2.3</td>\n",
       "      <td>8</td>\n",
       "      <td>16</td>\n",
       "      <td>936</td>\n",
       "      <td>Intel(R) UHD Graphics</td>\n",
       "      <td>2560</td>\n",
       "    </tr>\n",
       "    <tr>\n",
       "      <th>4</th>\n",
       "      <td>6/14/2022 11:51:11</td>\n",
       "      <td>MacOS</td>\n",
       "      <td>1.6</td>\n",
       "      <td>2</td>\n",
       "      <td>8</td>\n",
       "      <td>121</td>\n",
       "      <td>Intel UHD Graphics 617 1536 MB</td>\n",
       "      <td>2</td>\n",
       "    </tr>\n",
       "    <tr>\n",
       "      <th>...</th>\n",
       "      <td>...</td>\n",
       "      <td>...</td>\n",
       "      <td>...</td>\n",
       "      <td>...</td>\n",
       "      <td>...</td>\n",
       "      <td>...</td>\n",
       "      <td>...</td>\n",
       "      <td>...</td>\n",
       "    </tr>\n",
       "    <tr>\n",
       "      <th>57</th>\n",
       "      <td>6/14/2022 14:16:47</td>\n",
       "      <td>Windows</td>\n",
       "      <td>1.8</td>\n",
       "      <td>4</td>\n",
       "      <td>16</td>\n",
       "      <td>450</td>\n",
       "      <td>NVIDIA GeForce GTX 1050</td>\n",
       "      <td>640</td>\n",
       "    </tr>\n",
       "    <tr>\n",
       "      <th>58</th>\n",
       "      <td>6/14/2022 14:17:00</td>\n",
       "      <td>Windows</td>\n",
       "      <td>2.4</td>\n",
       "      <td>4</td>\n",
       "      <td>16</td>\n",
       "      <td>237</td>\n",
       "      <td>Intel(R) Iris(R) Xe Graphics</td>\n",
       "      <td>0</td>\n",
       "    </tr>\n",
       "    <tr>\n",
       "      <th>59</th>\n",
       "      <td>6/14/2022 14:17:18</td>\n",
       "      <td>Any Linux</td>\n",
       "      <td>2.5</td>\n",
       "      <td>14</td>\n",
       "      <td>32</td>\n",
       "      <td>1000</td>\n",
       "      <td>NVIDIA GeForce RTX 3050 Ti Laptop GPU</td>\n",
       "      <td>2560</td>\n",
       "    </tr>\n",
       "    <tr>\n",
       "      <th>60</th>\n",
       "      <td>6/14/2022 14:17:30</td>\n",
       "      <td>Windows</td>\n",
       "      <td>2.4</td>\n",
       "      <td>2</td>\n",
       "      <td>8</td>\n",
       "      <td>237</td>\n",
       "      <td>Intel (R) HD Graphics 520</td>\n",
       "      <td>192</td>\n",
       "    </tr>\n",
       "    <tr>\n",
       "      <th>61</th>\n",
       "      <td>6/14/2022 14:18:16</td>\n",
       "      <td>MacOS</td>\n",
       "      <td>1.4</td>\n",
       "      <td>8</td>\n",
       "      <td>8</td>\n",
       "      <td>256</td>\n",
       "      <td>Apple M1</td>\n",
       "      <td>0</td>\n",
       "    </tr>\n",
       "  </tbody>\n",
       "</table>\n",
       "<p>62 rows × 8 columns</p>\n",
       "</div>"
      ],
      "text/plain": [
       "             Timestamp Operating System  CPU Cycle Rate (in GHz)  \\\n",
       "0   5/18/2022 12:30:44            MacOS                      2.5   \n",
       "1     1/1/1970 0:00:00        Any Linux                    500.0   \n",
       "2    6/8/2022 17:39:20          Windows                      2.8   \n",
       "3   6/12/2022 21:25:43          Windows                      2.3   \n",
       "4   6/14/2022 11:51:11            MacOS                      1.6   \n",
       "..                 ...              ...                      ...   \n",
       "57  6/14/2022 14:16:47          Windows                      1.8   \n",
       "58  6/14/2022 14:17:00          Windows                      2.4   \n",
       "59  6/14/2022 14:17:18        Any Linux                      2.5   \n",
       "60  6/14/2022 14:17:30          Windows                      2.4   \n",
       "61  6/14/2022 14:18:16            MacOS                      1.4   \n",
       "\n",
       "    CPU Number of Cores (int)  RAM (in GB)  Hard Drive Size (in GB)  \\\n",
       "0                           2           16                      500   \n",
       "1                          -3          256                        5   \n",
       "2                           4           16                      512   \n",
       "3                           8           16                      936   \n",
       "4                           2            8                      121   \n",
       "..                        ...          ...                      ...   \n",
       "57                          4           16                      450   \n",
       "58                          4           16                      237   \n",
       "59                         14           32                     1000   \n",
       "60                          2            8                      237   \n",
       "61                          8            8                      256   \n",
       "\n",
       "      GPU (short description as a string)  GPU CUDA Number of Cores (int)  \n",
       "0    Intel Iris Plus Graphics 640 1536 MB                               0  \n",
       "1                               rtx 48000                         6002283  \n",
       "2                  Intel Iris Xe Graphics                               4  \n",
       "3                   Intel(R) UHD Graphics                            2560  \n",
       "4          Intel UHD Graphics 617 1536 MB                               2  \n",
       "..                                    ...                             ...  \n",
       "57                NVIDIA GeForce GTX 1050                             640  \n",
       "58           Intel(R) Iris(R) Xe Graphics                               0  \n",
       "59  NVIDIA GeForce RTX 3050 Ti Laptop GPU                            2560  \n",
       "60              Intel (R) HD Graphics 520                             192  \n",
       "61                               Apple M1                               0  \n",
       "\n",
       "[62 rows x 8 columns]"
      ]
     },
     "execution_count": 12,
     "metadata": {},
     "output_type": "execute_result"
    }
   ],
   "source": [
    "# check that the previous step worked\n",
    "dta"
   ]
  },
  {
   "cell_type": "code",
   "execution_count": 13,
   "id": "4740e721",
   "metadata": {},
   "outputs": [],
   "source": [
    "# assign dataframe to csv file (maybe making the last step obsolete tbh)\n",
    "df = pd.read_csv(\"2022-06-14-survey.csv\")"
   ]
  },
  {
   "cell_type": "code",
   "execution_count": 14,
   "id": "350282a2",
   "metadata": {},
   "outputs": [
    {
     "data": {
      "text/plain": [
       "<AxesSubplot:ylabel='Frequency'>"
      ]
     },
     "execution_count": 14,
     "metadata": {},
     "output_type": "execute_result"
    },
    {
     "data": {
      "image/png": "[encoded data removed]",
      "text/plain": [
       "<Figure size 432x288 with 1 Axes>"
      ]
     },
     "metadata": {
      "needs_background": "light"
     },
     "output_type": "display_data"
    }
   ],
   "source": [
    "# use one column of the dataframe to create a histogram from just one variable\n",
    "df[\"Hard Drive Size (in GB)\"].plot(kind='hist')"
   ]
  },
  {
   "cell_type": "code",
   "execution_count": 15,
   "id": "81795cc0",
   "metadata": {},
   "outputs": [
    {
     "data": {
      "text/plain": [
       "<AxesSubplot:ylabel='Frequency'>"
      ]
     },
     "execution_count": 15,
     "metadata": {},
     "output_type": "execute_result"
    },
    {
     "data": {
      "image/png": "[encoded data removed]",
      "text/plain": [
       "<Figure size 432x288 with 1 Axes>"
      ]
     },
     "metadata": {
      "needs_background": "light"
     },
     "output_type": "display_data"
    }
   ],
   "source": [
    "# repeat with a different column/variable assigned to the dataframe\n",
    "df[\"CPU Number of Cores (int)\"].plot(kind='hist')"
   ]
  },
  {
   "cell_type": "code",
   "execution_count": 16,
   "id": "bdde7707",
   "metadata": {},
   "outputs": [
    {
     "data": {
      "text/plain": [
       "<AxesSubplot:title={'center':'Hard Drive Size in GB'}, ylabel='Frequency'>"
      ]
     },
     "execution_count": 16,
     "metadata": {},
     "output_type": "execute_result"
    },
    {
     "data": {
      "image/png": "[encoded data removed]",
      "text/plain": [
       "<Figure size 432x288 with 1 Axes>"
      ]
     },
     "metadata": {
      "needs_background": "light"
     },
     "output_type": "display_data"
    }
   ],
   "source": [
    "# mess around with histogram settings\n",
    "df[\"Hard Drive Size (in GB)\"].plot(kind='hist', color='g', alpha=0.3, title=\"Hard Drive Size in GB\")"
   ]
  },
  {
   "cell_type": "code",
   "execution_count": 17,
   "id": "3b357b4c",
   "metadata": {},
   "outputs": [],
   "source": [
    "# next things to learn:\n",
    "    # how to eliminate outliers\n",
    "    # what all these things mean (yikes)"
   ]
  }
 ],
 "metadata": {
  "kernelspec": {
   "display_name": "Python 3 (ipykernel)",
   "language": "python",
   "name": "python3"
  },
  "language_info": {
   "codemirror_mode": {
    "name": "ipython",
    "version": 3
   },
   "file_extension": ".py",
   "mimetype": "text/x-python",
   "name": "python",
   "nbconvert_exporter": "python",
   "pygments_lexer": "ipython3",
   "version": "3.9.12"
  }
 },
 "nbformat": 4,
 "nbformat_minor": 5
}
