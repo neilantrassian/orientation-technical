{
 "cells": [
  {
   "cell_type": "code",
   "execution_count": 156,
   "id": "096f9d6a-9fd5-4740-8e13-0e63e275c5e6",
   "metadata": {},
   "outputs": [],
   "source": [
    "import pandas as pd\n",
    "import numpy as np\n",
    "from matplotlib import pyplot as plt\n",
    "import math"
   ]
  },
  {
   "cell_type": "code",
   "execution_count": 157,
   "id": "645a7386-d9a2-4565-bc5d-acfb88d44c40",
   "metadata": {},
   "outputs": [],
   "source": [
    "mydata = pd.read_csv(\"https://raw.githubusercontent.com/UVADS/orientation-technical/main/dat/2022-06-14-survey.csv\")\n",
    "mydata = mydata[(mydata[\"CPU Cycle Rate (in GHz)\"] >= 0) & (mydata[\"CPU Cycle Rate (in GHz)\"] <= 100)]"
   ]
  },
  {
   "cell_type": "code",
   "execution_count": 161,
   "id": "c76cc1da-caca-41a9-b0f5-014355f19642",
   "metadata": {},
   "outputs": [
    {
     "data": {
      "image/png": "[encoded data removed]",
      "text/plain": [
       "<Figure size 432x288 with 1 Axes>"
      ]
     },
     "metadata": {
      "needs_background": "light"
     },
     "output_type": "display_data"
    }
   ],
   "source": [
    "fig, ax = plt.subplots()\n",
    "ax.hist(mydata[\"CPU Cycle Rate (in GHz)\"], bins = np.arange(math.floor(min(mydata[\"CPU Cycle Rate (in GHz)\"])), math.ceil(max(mydata[\"CPU Cycle Rate (in GHz)\"])), 0.25))\n",
    "plt.xlabel(\"CPU Cycle Rate (in GHz)\")\n",
    "plt.ylabel(\"Count\")\n",
    "plt.title(\"Histogram of CPU Cycle Rates\")\n",
    "plt.show()"
   ]
  }
 ],
 "metadata": {
  "kernelspec": {
   "display_name": "Python 3 (ipykernel)",
   "language": "python",
   "name": "python3"
  },
  "language_info": {
   "codemirror_mode": {
    "name": "ipython",
    "version": 3
   },
   "file_extension": ".py",
   "mimetype": "text/x-python",
   "name": "python",
   "nbconvert_exporter": "python",
   "pygments_lexer": "ipython3",
   "version": "3.9.12"
  }
 },
 "nbformat": 4,
 "nbformat_minor": 5
}
