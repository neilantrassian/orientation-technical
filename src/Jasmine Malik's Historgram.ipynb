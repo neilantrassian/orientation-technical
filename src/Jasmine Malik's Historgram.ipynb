{
 "cells": [
  {
   "cell_type": "code",
   "execution_count": 4,
   "metadata": {},
   "outputs": [],
   "source": [
    "import pandas as pd\n",
    "import matplotlib.pyplot as plt"
   ]
  },
  {
   "cell_type": "code",
   "execution_count": 49,
   "metadata": {},
   "outputs": [],
   "source": [
    "df = pd.read_csv('2022-06-14-survey.csv')"
   ]
  },
  {
   "cell_type": "code",
   "execution_count": 50,
   "metadata": {},
   "outputs": [],
   "source": [
    "df = df.drop(1).head()"
   ]
  },
  {
   "cell_type": "code",
   "execution_count": 53,
   "metadata": {},
   "outputs": [
    {
     "data": {
      "text/html": [
       "<div>\n",
       "<style scoped>\n",
       "    .dataframe tbody tr th:only-of-type {\n",
       "        vertical-align: middle;\n",
       "    }\n",
       "\n",
       "    .dataframe tbody tr th {\n",
       "        vertical-align: top;\n",
       "    }\n",
       "\n",
       "    .dataframe thead th {\n",
       "        text-align: right;\n",
       "    }\n",
       "</style>\n",
       "<table border=\"1\" class=\"dataframe\">\n",
       "  <thead>\n",
       "    <tr style=\"text-align: right;\">\n",
       "      <th></th>\n",
       "      <th>Timestamp</th>\n",
       "      <th>Operating System</th>\n",
       "      <th>CPU Cycle Rate (in GHz)</th>\n",
       "      <th>CPU Number of Cores (int)</th>\n",
       "      <th>RAM (in GB)</th>\n",
       "      <th>Hard Drive Size (in GB)</th>\n",
       "      <th>GPU (short description as a string)</th>\n",
       "      <th>GPU CUDA Number of Cores (int)</th>\n",
       "    </tr>\n",
       "  </thead>\n",
       "  <tbody>\n",
       "    <tr>\n",
       "      <th>0</th>\n",
       "      <td>5/18/2022 12:30:44</td>\n",
       "      <td>MacOS</td>\n",
       "      <td>2.5</td>\n",
       "      <td>2</td>\n",
       "      <td>16</td>\n",
       "      <td>500</td>\n",
       "      <td>Intel Iris Plus Graphics 640 1536 MB</td>\n",
       "      <td>0</td>\n",
       "    </tr>\n",
       "    <tr>\n",
       "      <th>2</th>\n",
       "      <td>6/8/2022 17:39:20</td>\n",
       "      <td>Windows</td>\n",
       "      <td>2.8</td>\n",
       "      <td>4</td>\n",
       "      <td>16</td>\n",
       "      <td>512</td>\n",
       "      <td>Intel Iris Xe Graphics</td>\n",
       "      <td>4</td>\n",
       "    </tr>\n",
       "    <tr>\n",
       "      <th>3</th>\n",
       "      <td>6/12/2022 21:25:43</td>\n",
       "      <td>Windows</td>\n",
       "      <td>2.3</td>\n",
       "      <td>8</td>\n",
       "      <td>16</td>\n",
       "      <td>936</td>\n",
       "      <td>Intel(R) UHD Graphics</td>\n",
       "      <td>2560</td>\n",
       "    </tr>\n",
       "    <tr>\n",
       "      <th>4</th>\n",
       "      <td>6/14/2022 11:51:11</td>\n",
       "      <td>MacOS</td>\n",
       "      <td>1.6</td>\n",
       "      <td>2</td>\n",
       "      <td>8</td>\n",
       "      <td>121</td>\n",
       "      <td>Intel UHD Graphics 617 1536 MB</td>\n",
       "      <td>2</td>\n",
       "    </tr>\n",
       "    <tr>\n",
       "      <th>5</th>\n",
       "      <td>6/14/2022 13:00:49</td>\n",
       "      <td>MacOS</td>\n",
       "      <td>3.1</td>\n",
       "      <td>4</td>\n",
       "      <td>8</td>\n",
       "      <td>256</td>\n",
       "      <td>\"Intel Iris Plus Graphics 650 1536 MB\"</td>\n",
       "      <td>0</td>\n",
       "    </tr>\n",
       "  </tbody>\n",
       "</table>\n",
       "</div>"
      ],
      "text/plain": [
       "            Timestamp Operating System  CPU Cycle Rate (in GHz)  \\\n",
       "0  5/18/2022 12:30:44            MacOS                      2.5   \n",
       "2   6/8/2022 17:39:20          Windows                      2.8   \n",
       "3  6/12/2022 21:25:43          Windows                      2.3   \n",
       "4  6/14/2022 11:51:11            MacOS                      1.6   \n",
       "5  6/14/2022 13:00:49            MacOS                      3.1   \n",
       "\n",
       "   CPU Number of Cores (int)  RAM (in GB)  Hard Drive Size (in GB)  \\\n",
       "0                          2           16                      500   \n",
       "2                          4           16                      512   \n",
       "3                          8           16                      936   \n",
       "4                          2            8                      121   \n",
       "5                          4            8                      256   \n",
       "\n",
       "      GPU (short description as a string)  GPU CUDA Number of Cores (int)  \n",
       "0    Intel Iris Plus Graphics 640 1536 MB                               0  \n",
       "2                  Intel Iris Xe Graphics                               4  \n",
       "3                   Intel(R) UHD Graphics                            2560  \n",
       "4          Intel UHD Graphics 617 1536 MB                               2  \n",
       "5  \"Intel Iris Plus Graphics 650 1536 MB\"                               0  "
      ]
     },
     "execution_count": 53,
     "metadata": {},
     "output_type": "execute_result"
    }
   ],
   "source": [
    "df"
   ]
  },
  {
   "cell_type": "code",
   "execution_count": 67,
   "metadata": {
    "scrolled": true
   },
   "outputs": [
    {
     "data": {
      "text/plain": [
       "(array([2., 0., 0., 0., 0., 0., 0., 0., 0., 3.]),\n",
       " array([ 8. ,  8.8,  9.6, 10.4, 11.2, 12. , 12.8, 13.6, 14.4, 15.2, 16. ]),\n",
       " <BarContainer object of 10 artists>)"
      ]
     },
     "execution_count": 67,
     "metadata": {},
     "output_type": "execute_result"
    },
    {
     "data": {
      "image/png": "[encoded data removed]",
      "text/plain": [
       "<Figure size 432x288 with 1 Axes>"
      ]
     },
     "metadata": {
      "needs_background": "light"
     },
     "output_type": "display_data"
    }
   ],
   "source": [
    "cpucyc = df[\"CPU Number of Cores (int)\"]\n",
    "cyc = df[\"CPU Cycle Rate (in GHz)\"]\n",
    "ram = df[\"RAM (in GB)\"]\n",
    "plt.hist(cpucyc, color = \"green\",alpha=.2)\n",
    "plt.hist(cyc, color = \"blue\", alpha=0.3)\n",
    "plt.hist(ram, color = \"pink\", alpha=0.5)\n",
    "#plt.xlabel(\"Hard Drive Size in GB\")\n",
    "#plt.ylabel(\"Count\")\n",
    "#plt.title('Hard Drive Size in GB')"
   ]
  },
  {
   "cell_type": "code",
   "execution_count": 52,
   "metadata": {},
   "outputs": [
    {
     "data": {
      "text/html": [
       "<div>\n",
       "<style scoped>\n",
       "    .dataframe tbody tr th:only-of-type {\n",
       "        vertical-align: middle;\n",
       "    }\n",
       "\n",
       "    .dataframe tbody tr th {\n",
       "        vertical-align: top;\n",
       "    }\n",
       "\n",
       "    .dataframe thead th {\n",
       "        text-align: right;\n",
       "    }\n",
       "</style>\n",
       "<table border=\"1\" class=\"dataframe\">\n",
       "  <thead>\n",
       "    <tr style=\"text-align: right;\">\n",
       "      <th></th>\n",
       "      <th>Timestamp</th>\n",
       "      <th>Operating System</th>\n",
       "      <th>CPU Cycle Rate (in GHz)</th>\n",
       "      <th>CPU Number of Cores (int)</th>\n",
       "      <th>RAM (in GB)</th>\n",
       "      <th>Hard Drive Size (in GB)</th>\n",
       "      <th>GPU (short description as a string)</th>\n",
       "      <th>GPU CUDA Number of Cores (int)</th>\n",
       "    </tr>\n",
       "  </thead>\n",
       "  <tbody>\n",
       "    <tr>\n",
       "      <th>0</th>\n",
       "      <td>5/18/2022 12:30:44</td>\n",
       "      <td>MacOS</td>\n",
       "      <td>2.5</td>\n",
       "      <td>2</td>\n",
       "      <td>16</td>\n",
       "      <td>500</td>\n",
       "      <td>Intel Iris Plus Graphics 640 1536 MB</td>\n",
       "      <td>0</td>\n",
       "    </tr>\n",
       "    <tr>\n",
       "      <th>2</th>\n",
       "      <td>6/8/2022 17:39:20</td>\n",
       "      <td>Windows</td>\n",
       "      <td>2.8</td>\n",
       "      <td>4</td>\n",
       "      <td>16</td>\n",
       "      <td>512</td>\n",
       "      <td>Intel Iris Xe Graphics</td>\n",
       "      <td>4</td>\n",
       "    </tr>\n",
       "    <tr>\n",
       "      <th>3</th>\n",
       "      <td>6/12/2022 21:25:43</td>\n",
       "      <td>Windows</td>\n",
       "      <td>2.3</td>\n",
       "      <td>8</td>\n",
       "      <td>16</td>\n",
       "      <td>936</td>\n",
       "      <td>Intel(R) UHD Graphics</td>\n",
       "      <td>2560</td>\n",
       "    </tr>\n",
       "    <tr>\n",
       "      <th>4</th>\n",
       "      <td>6/14/2022 11:51:11</td>\n",
       "      <td>MacOS</td>\n",
       "      <td>1.6</td>\n",
       "      <td>2</td>\n",
       "      <td>8</td>\n",
       "      <td>121</td>\n",
       "      <td>Intel UHD Graphics 617 1536 MB</td>\n",
       "      <td>2</td>\n",
       "    </tr>\n",
       "    <tr>\n",
       "      <th>5</th>\n",
       "      <td>6/14/2022 13:00:49</td>\n",
       "      <td>MacOS</td>\n",
       "      <td>3.1</td>\n",
       "      <td>4</td>\n",
       "      <td>8</td>\n",
       "      <td>256</td>\n",
       "      <td>\"Intel Iris Plus Graphics 650 1536 MB\"</td>\n",
       "      <td>0</td>\n",
       "    </tr>\n",
       "  </tbody>\n",
       "</table>\n",
       "</div>"
      ],
      "text/plain": [
       "            Timestamp Operating System  CPU Cycle Rate (in GHz)  \\\n",
       "0  5/18/2022 12:30:44            MacOS                      2.5   \n",
       "2   6/8/2022 17:39:20          Windows                      2.8   \n",
       "3  6/12/2022 21:25:43          Windows                      2.3   \n",
       "4  6/14/2022 11:51:11            MacOS                      1.6   \n",
       "5  6/14/2022 13:00:49            MacOS                      3.1   \n",
       "\n",
       "   CPU Number of Cores (int)  RAM (in GB)  Hard Drive Size (in GB)  \\\n",
       "0                          2           16                      500   \n",
       "2                          4           16                      512   \n",
       "3                          8           16                      936   \n",
       "4                          2            8                      121   \n",
       "5                          4            8                      256   \n",
       "\n",
       "      GPU (short description as a string)  GPU CUDA Number of Cores (int)  \n",
       "0    Intel Iris Plus Graphics 640 1536 MB                               0  \n",
       "2                  Intel Iris Xe Graphics                               4  \n",
       "3                   Intel(R) UHD Graphics                            2560  \n",
       "4          Intel UHD Graphics 617 1536 MB                               2  \n",
       "5  \"Intel Iris Plus Graphics 650 1536 MB\"                               0  "
      ]
     },
     "execution_count": 52,
     "metadata": {},
     "output_type": "execute_result"
    }
   ],
   "source": []
  },
  {
   "cell_type": "code",
   "execution_count": null,
   "metadata": {},
   "outputs": [],
   "source": []
  }
 ],
 "metadata": {
  "kernelspec": {
   "display_name": "Python 3",
   "language": "python",
   "name": "python3"
  },
  "language_info": {
   "codemirror_mode": {
    "name": "ipython",
    "version": 3
   },
   "file_extension": ".py",
   "mimetype": "text/x-python",
   "name": "python",
   "nbconvert_exporter": "python",
   "pygments_lexer": "ipython3",
   "version": "3.8.5"
  }
 },
 "nbformat": 4,
 "nbformat_minor": 4
}
