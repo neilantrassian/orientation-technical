{
 "cells": [
  {
   "cell_type": "code",
   "execution_count": 64,
   "id": "bc01698b-f309-45a0-9c52-1e01e909598e",
   "metadata": {},
   "outputs": [
    {
     "name": "stdout",
     "output_type": "stream",
     "text": [
      "hello world\n"
     ]
    }
   ],
   "source": [
    "print('hello world')"
   ]
  },
  {
   "cell_type": "code",
   "execution_count": 65,
   "id": "8c05f2c6-4365-4e65-b02d-b334f066c1e4",
   "metadata": {
    "tags": []
   },
   "outputs": [],
   "source": [
    "# Always import these packages for work\n",
    "%matplotlib inline\n",
    "import pandas as pd\n",
    "import matplotlib.pyplot as plt\n",
    "import numpy as np"
   ]
  },
  {
   "cell_type": "code",
   "execution_count": 66,
   "id": "630a26e9-e119-49b8-9ef1-eb04b798f26c",
   "metadata": {},
   "outputs": [
    {
     "data": {
      "text/html": [
       "<div>\n",
       "<style scoped>\n",
       "    .dataframe tbody tr th:only-of-type {\n",
       "        vertical-align: middle;\n",
       "    }\n",
       "\n",
       "    .dataframe tbody tr th {\n",
       "        vertical-align: top;\n",
       "    }\n",
       "\n",
       "    .dataframe thead th {\n",
       "        text-align: right;\n",
       "    }\n",
       "</style>\n",
       "<table border=\"1\" class=\"dataframe\">\n",
       "  <thead>\n",
       "    <tr style=\"text-align: right;\">\n",
       "      <th></th>\n",
       "      <th>Timestamp</th>\n",
       "      <th>Operating System</th>\n",
       "      <th>CPU Cycle Rate (in GHz)</th>\n",
       "      <th>CPU Number of Cores</th>\n",
       "      <th>RAM (in GB)</th>\n",
       "      <th>Hard Drive Size (in GB)</th>\n",
       "      <th>GPU (short description)</th>\n",
       "    </tr>\n",
       "  </thead>\n",
       "  <tbody>\n",
       "    <tr>\n",
       "      <th>0</th>\n",
       "      <td>6/12/2021 23:05:22</td>\n",
       "      <td>Windows 10</td>\n",
       "      <td>1.8</td>\n",
       "      <td>4</td>\n",
       "      <td>8</td>\n",
       "      <td>256</td>\n",
       "      <td>intel uhd 620</td>\n",
       "    </tr>\n",
       "    <tr>\n",
       "      <th>1</th>\n",
       "      <td>6/13/2021 20:36:02</td>\n",
       "      <td>Windows 10</td>\n",
       "      <td>2.8</td>\n",
       "      <td>4</td>\n",
       "      <td>16</td>\n",
       "      <td>460</td>\n",
       "      <td>Intel(R) Iris(R) Xe Graphics</td>\n",
       "    </tr>\n",
       "    <tr>\n",
       "      <th>2</th>\n",
       "      <td>6/13/2021 22:31:11</td>\n",
       "      <td>MacOS</td>\n",
       "      <td>3.1</td>\n",
       "      <td>2</td>\n",
       "      <td>8</td>\n",
       "      <td>512</td>\n",
       "      <td>Intel Iris Plus Graphics 650</td>\n",
       "    </tr>\n",
       "    <tr>\n",
       "      <th>3</th>\n",
       "      <td>6/14/2021 13:31:30</td>\n",
       "      <td>Windows 10</td>\n",
       "      <td>3.5</td>\n",
       "      <td>4</td>\n",
       "      <td>16</td>\n",
       "      <td>1000</td>\n",
       "      <td>NVIDIA GeForce GTX 1070 Ti</td>\n",
       "    </tr>\n",
       "    <tr>\n",
       "      <th>4</th>\n",
       "      <td>6/14/2021 14:13:55</td>\n",
       "      <td>MacOS</td>\n",
       "      <td>1.6</td>\n",
       "      <td>2</td>\n",
       "      <td>8</td>\n",
       "      <td>256</td>\n",
       "      <td>Intel HD Graphics 6000 1536 MB</td>\n",
       "    </tr>\n",
       "  </tbody>\n",
       "</table>\n",
       "</div>"
      ],
      "text/plain": [
       "            Timestamp Operating System  CPU Cycle Rate (in GHz)  \\\n",
       "0  6/12/2021 23:05:22       Windows 10                      1.8   \n",
       "1  6/13/2021 20:36:02       Windows 10                      2.8   \n",
       "2  6/13/2021 22:31:11            MacOS                      3.1   \n",
       "3  6/14/2021 13:31:30       Windows 10                      3.5   \n",
       "4  6/14/2021 14:13:55            MacOS                      1.6   \n",
       "\n",
       "   CPU Number of Cores  RAM (in GB)  Hard Drive Size (in GB)  \\\n",
       "0                    4            8                      256   \n",
       "1                    4           16                      460   \n",
       "2                    2            8                      512   \n",
       "3                    4           16                     1000   \n",
       "4                    2            8                      256   \n",
       "\n",
       "          GPU (short description)  \n",
       "0                   intel uhd 620  \n",
       "1    Intel(R) Iris(R) Xe Graphics  \n",
       "2    Intel Iris Plus Graphics 650  \n",
       "3      NVIDIA GeForce GTX 1070 Ti  \n",
       "4  Intel HD Graphics 6000 1536 MB  "
      ]
     },
     "execution_count": 66,
     "metadata": {},
     "output_type": "execute_result"
    }
   ],
   "source": [
    "# Reading a csv file in using filepath name\n",
    "df = pd.read_csv(\"/Users/eveschoenrock/Desktop/Code/2021-06-15-survey.csv\")\n",
    "df.head()"
   ]
  },
  {
   "cell_type": "code",
   "execution_count": 67,
   "id": "b0a82609-409c-4ba3-a24c-58a400498ced",
   "metadata": {},
   "outputs": [
    {
     "data": {
      "text/html": [
       "<div>\n",
       "<style scoped>\n",
       "    .dataframe tbody tr th:only-of-type {\n",
       "        vertical-align: middle;\n",
       "    }\n",
       "\n",
       "    .dataframe tbody tr th {\n",
       "        vertical-align: top;\n",
       "    }\n",
       "\n",
       "    .dataframe thead th {\n",
       "        text-align: right;\n",
       "    }\n",
       "</style>\n",
       "<table border=\"1\" class=\"dataframe\">\n",
       "  <thead>\n",
       "    <tr style=\"text-align: right;\">\n",
       "      <th></th>\n",
       "      <th>timestamp</th>\n",
       "      <th>os</th>\n",
       "      <th>cpu</th>\n",
       "      <th>cpu_core</th>\n",
       "      <th>ram</th>\n",
       "      <th>hard_drive</th>\n",
       "      <th>gpu</th>\n",
       "    </tr>\n",
       "  </thead>\n",
       "  <tbody>\n",
       "    <tr>\n",
       "      <th>0</th>\n",
       "      <td>6/12/2021 23:05:22</td>\n",
       "      <td>Windows 10</td>\n",
       "      <td>1.8</td>\n",
       "      <td>4</td>\n",
       "      <td>8</td>\n",
       "      <td>256</td>\n",
       "      <td>intel uhd 620</td>\n",
       "    </tr>\n",
       "    <tr>\n",
       "      <th>1</th>\n",
       "      <td>6/13/2021 20:36:02</td>\n",
       "      <td>Windows 10</td>\n",
       "      <td>2.8</td>\n",
       "      <td>4</td>\n",
       "      <td>16</td>\n",
       "      <td>460</td>\n",
       "      <td>Intel(R) Iris(R) Xe Graphics</td>\n",
       "    </tr>\n",
       "    <tr>\n",
       "      <th>2</th>\n",
       "      <td>6/13/2021 22:31:11</td>\n",
       "      <td>MacOS</td>\n",
       "      <td>3.1</td>\n",
       "      <td>2</td>\n",
       "      <td>8</td>\n",
       "      <td>512</td>\n",
       "      <td>Intel Iris Plus Graphics 650</td>\n",
       "    </tr>\n",
       "    <tr>\n",
       "      <th>3</th>\n",
       "      <td>6/14/2021 13:31:30</td>\n",
       "      <td>Windows 10</td>\n",
       "      <td>3.5</td>\n",
       "      <td>4</td>\n",
       "      <td>16</td>\n",
       "      <td>1000</td>\n",
       "      <td>NVIDIA GeForce GTX 1070 Ti</td>\n",
       "    </tr>\n",
       "    <tr>\n",
       "      <th>4</th>\n",
       "      <td>6/14/2021 14:13:55</td>\n",
       "      <td>MacOS</td>\n",
       "      <td>1.6</td>\n",
       "      <td>2</td>\n",
       "      <td>8</td>\n",
       "      <td>256</td>\n",
       "      <td>Intel HD Graphics 6000 1536 MB</td>\n",
       "    </tr>\n",
       "  </tbody>\n",
       "</table>\n",
       "</div>"
      ],
      "text/plain": [
       "            timestamp          os  cpu  cpu_core  ram  hard_drive  \\\n",
       "0  6/12/2021 23:05:22  Windows 10  1.8         4    8         256   \n",
       "1  6/13/2021 20:36:02  Windows 10  2.8         4   16         460   \n",
       "2  6/13/2021 22:31:11       MacOS  3.1         2    8         512   \n",
       "3  6/14/2021 13:31:30  Windows 10  3.5         4   16        1000   \n",
       "4  6/14/2021 14:13:55       MacOS  1.6         2    8         256   \n",
       "\n",
       "                              gpu  \n",
       "0                   intel uhd 620  \n",
       "1    Intel(R) Iris(R) Xe Graphics  \n",
       "2    Intel Iris Plus Graphics 650  \n",
       "3      NVIDIA GeForce GTX 1070 Ti  \n",
       "4  Intel HD Graphics 6000 1536 MB  "
      ]
     },
     "execution_count": 67,
     "metadata": {},
     "output_type": "execute_result"
    }
   ],
   "source": [
    "# Change column names to make dataframe use easier throughout\n",
    "df.columns = ['timestamp', 'os', 'cpu', 'cpu_core', 'ram', 'hard_drive', 'gpu']\n",
    "df.head()"
   ]
  },
  {
   "cell_type": "code",
   "execution_count": 68,
   "id": "21b18650-1c37-4654-80db-4df4ffc03f13",
   "metadata": {},
   "outputs": [
    {
     "data": {
      "text/plain": [
       "timestamp      object\n",
       "os             object\n",
       "cpu           float64\n",
       "cpu_core        int64\n",
       "ram             int64\n",
       "hard_drive      int64\n",
       "gpu            object\n",
       "dtype: object"
      ]
     },
     "execution_count": 68,
     "metadata": {},
     "output_type": "execute_result"
    }
   ],
   "source": [
    "# Check data types - see that timestamp was not imported as a timestamp\n",
    "df.dtypes"
   ]
  },
  {
   "cell_type": "code",
   "execution_count": 69,
   "id": "0c6bd002-3958-414e-ac2a-3c93b35a090a",
   "metadata": {},
   "outputs": [
    {
     "data": {
      "image/png": "[encoded data removed]",
      "text/plain": [
       "<Figure size 432x288 with 1 Axes>"
      ]
     },
     "metadata": {
      "needs_background": "light"
     },
     "output_type": "display_data"
    }
   ],
   "source": [
    "# Begin plotting histograms\n",
    "plt.hist(df.cpu, 12, density=True, histtype='bar', alpha=.5)\n",
    "plt.show()"
   ]
  },
  {
   "cell_type": "code",
   "execution_count": 70,
   "id": "690a29c8-4412-4c23-99a4-cf7bd90abb28",
   "metadata": {},
   "outputs": [
    {
     "data": {
      "image/png": "[encoded data removed]",
      "text/plain": [
       "<Figure size 432x288 with 1 Axes>"
      ]
     },
     "metadata": {
      "needs_background": "light"
     },
     "output_type": "display_data"
    }
   ],
   "source": [
    "plt.hist(df.cpu_core, 5, density=True, histtype='bar', alpha=.5)\n",
    "plt.show()"
   ]
  },
  {
   "cell_type": "code",
   "execution_count": 71,
   "id": "701fb2b4-d979-464c-81e0-36d53bb3f90a",
   "metadata": {},
   "outputs": [
    {
     "data": {
      "image/png": "[encoded data removed]",
      "text/plain": [
       "<Figure size 432x288 with 1 Axes>"
      ]
     },
     "metadata": {
      "needs_background": "light"
     },
     "output_type": "display_data"
    }
   ],
   "source": [
    "plt.hist(df.ram, 5, density=True, histtype='bar', alpha=.5)\n",
    "plt.show()"
   ]
  },
  {
   "cell_type": "code",
   "execution_count": 72,
   "id": "799681b2-7071-47af-a34c-1b4c94f20427",
   "metadata": {},
   "outputs": [],
   "source": [
    "df.describe()['ram']\n",
    "df = df[df.ram < 100]"
   ]
  },
  {
   "cell_type": "code",
   "execution_count": 74,
   "id": "8688119b-df20-4d62-8296-35872ee15c2e",
   "metadata": {},
   "outputs": [
    {
     "data": {
      "image/png": "[encoded data removed]",
      "text/plain": [
       "<Figure size 432x288 with 1 Axes>"
      ]
     },
     "metadata": {
      "needs_background": "light"
     },
     "output_type": "display_data"
    }
   ],
   "source": [
    "plt.hist(df.ram, 5, density=True, histtype='bar', alpha=.5)\n",
    "plt.show()"
   ]
  },
  {
   "cell_type": "code",
   "execution_count": 75,
   "id": "d189c79c-60f5-4d17-becd-50fe970a8346",
   "metadata": {},
   "outputs": [
    {
     "data": {
      "image/png": "[encoded data removed]",
      "text/plain": [
       "<Figure size 432x288 with 1 Axes>"
      ]
     },
     "metadata": {
      "needs_background": "light"
     },
     "output_type": "display_data"
    }
   ],
   "source": [
    "plt.hist(df.hard_drive, 8, density=True, histtype='bar', alpha=.5)\n",
    "plt.show()"
   ]
  },
  {
   "cell_type": "code",
   "execution_count": 76,
   "id": "54777621-4278-42ea-a93e-119a7c798c60",
   "metadata": {},
   "outputs": [
    {
     "data": {
      "text/html": [
       "<div>\n",
       "<style scoped>\n",
       "    .dataframe tbody tr th:only-of-type {\n",
       "        vertical-align: middle;\n",
       "    }\n",
       "\n",
       "    .dataframe tbody tr th {\n",
       "        vertical-align: top;\n",
       "    }\n",
       "\n",
       "    .dataframe thead th {\n",
       "        text-align: right;\n",
       "    }\n",
       "</style>\n",
       "<table border=\"1\" class=\"dataframe\">\n",
       "  <thead>\n",
       "    <tr style=\"text-align: right;\">\n",
       "      <th></th>\n",
       "      <th>timestamp</th>\n",
       "      <th>os</th>\n",
       "      <th>cpu</th>\n",
       "      <th>cpu_core</th>\n",
       "      <th>ram</th>\n",
       "      <th>hard_drive</th>\n",
       "      <th>gpu</th>\n",
       "      <th>timestamp2</th>\n",
       "    </tr>\n",
       "  </thead>\n",
       "  <tbody>\n",
       "    <tr>\n",
       "      <th>0</th>\n",
       "      <td>6/12/2021 23:05:22</td>\n",
       "      <td>Windows 10</td>\n",
       "      <td>1.8</td>\n",
       "      <td>4</td>\n",
       "      <td>8</td>\n",
       "      <td>256</td>\n",
       "      <td>intel uhd 620</td>\n",
       "      <td>2021-06-12 23:05:22</td>\n",
       "    </tr>\n",
       "    <tr>\n",
       "      <th>1</th>\n",
       "      <td>6/13/2021 20:36:02</td>\n",
       "      <td>Windows 10</td>\n",
       "      <td>2.8</td>\n",
       "      <td>4</td>\n",
       "      <td>16</td>\n",
       "      <td>460</td>\n",
       "      <td>Intel(R) Iris(R) Xe Graphics</td>\n",
       "      <td>2021-06-13 20:36:02</td>\n",
       "    </tr>\n",
       "    <tr>\n",
       "      <th>2</th>\n",
       "      <td>6/13/2021 22:31:11</td>\n",
       "      <td>MacOS</td>\n",
       "      <td>3.1</td>\n",
       "      <td>2</td>\n",
       "      <td>8</td>\n",
       "      <td>512</td>\n",
       "      <td>Intel Iris Plus Graphics 650</td>\n",
       "      <td>2021-06-13 22:31:11</td>\n",
       "    </tr>\n",
       "    <tr>\n",
       "      <th>3</th>\n",
       "      <td>6/14/2021 13:31:30</td>\n",
       "      <td>Windows 10</td>\n",
       "      <td>3.5</td>\n",
       "      <td>4</td>\n",
       "      <td>16</td>\n",
       "      <td>1000</td>\n",
       "      <td>NVIDIA GeForce GTX 1070 Ti</td>\n",
       "      <td>2021-06-14 13:31:30</td>\n",
       "    </tr>\n",
       "    <tr>\n",
       "      <th>4</th>\n",
       "      <td>6/14/2021 14:13:55</td>\n",
       "      <td>MacOS</td>\n",
       "      <td>1.6</td>\n",
       "      <td>2</td>\n",
       "      <td>8</td>\n",
       "      <td>256</td>\n",
       "      <td>Intel HD Graphics 6000 1536 MB</td>\n",
       "      <td>2021-06-14 14:13:55</td>\n",
       "    </tr>\n",
       "  </tbody>\n",
       "</table>\n",
       "</div>"
      ],
      "text/plain": [
       "            timestamp          os  cpu  cpu_core  ram  hard_drive  \\\n",
       "0  6/12/2021 23:05:22  Windows 10  1.8         4    8         256   \n",
       "1  6/13/2021 20:36:02  Windows 10  2.8         4   16         460   \n",
       "2  6/13/2021 22:31:11       MacOS  3.1         2    8         512   \n",
       "3  6/14/2021 13:31:30  Windows 10  3.5         4   16        1000   \n",
       "4  6/14/2021 14:13:55       MacOS  1.6         2    8         256   \n",
       "\n",
       "                              gpu          timestamp2  \n",
       "0                   intel uhd 620 2021-06-12 23:05:22  \n",
       "1    Intel(R) Iris(R) Xe Graphics 2021-06-13 20:36:02  \n",
       "2    Intel Iris Plus Graphics 650 2021-06-13 22:31:11  \n",
       "3      NVIDIA GeForce GTX 1070 Ti 2021-06-14 13:31:30  \n",
       "4  Intel HD Graphics 6000 1536 MB 2021-06-14 14:13:55  "
      ]
     },
     "execution_count": 76,
     "metadata": {},
     "output_type": "execute_result"
    }
   ],
   "source": [
    "# Converting to timestamp in datetime format (best for seeing trends)\n",
    "from datetime import datetime\n",
    "timestamp_col = pd.to_datetime(df['timestamp'])\n",
    "\n",
    "timestamp_col.head()\n",
    "\n",
    "df['timestamp2'] = pd.to_datetime(df['timestamp'])\n",
    "df.head()"
   ]
  },
  {
   "cell_type": "code",
   "execution_count": 77,
   "id": "4b3344cc-2aed-46fe-903e-39685e2e92f4",
   "metadata": {},
   "outputs": [
    {
     "data": {
      "text/html": [
       "<div>\n",
       "<style scoped>\n",
       "    .dataframe tbody tr th:only-of-type {\n",
       "        vertical-align: middle;\n",
       "    }\n",
       "\n",
       "    .dataframe tbody tr th {\n",
       "        vertical-align: top;\n",
       "    }\n",
       "\n",
       "    .dataframe thead th {\n",
       "        text-align: right;\n",
       "    }\n",
       "</style>\n",
       "<table border=\"1\" class=\"dataframe\">\n",
       "  <thead>\n",
       "    <tr style=\"text-align: right;\">\n",
       "      <th></th>\n",
       "      <th>os</th>\n",
       "      <th>cpu</th>\n",
       "      <th>cpu_core</th>\n",
       "      <th>ram</th>\n",
       "      <th>hard_drive</th>\n",
       "      <th>gpu</th>\n",
       "      <th>timestamp2</th>\n",
       "    </tr>\n",
       "  </thead>\n",
       "  <tbody>\n",
       "    <tr>\n",
       "      <th>0</th>\n",
       "      <td>Windows 10</td>\n",
       "      <td>1.8</td>\n",
       "      <td>4</td>\n",
       "      <td>8</td>\n",
       "      <td>256</td>\n",
       "      <td>intel uhd 620</td>\n",
       "      <td>2021-06-12 23:05:22</td>\n",
       "    </tr>\n",
       "    <tr>\n",
       "      <th>1</th>\n",
       "      <td>Windows 10</td>\n",
       "      <td>2.8</td>\n",
       "      <td>4</td>\n",
       "      <td>16</td>\n",
       "      <td>460</td>\n",
       "      <td>Intel(R) Iris(R) Xe Graphics</td>\n",
       "      <td>2021-06-13 20:36:02</td>\n",
       "    </tr>\n",
       "    <tr>\n",
       "      <th>2</th>\n",
       "      <td>MacOS</td>\n",
       "      <td>3.1</td>\n",
       "      <td>2</td>\n",
       "      <td>8</td>\n",
       "      <td>512</td>\n",
       "      <td>Intel Iris Plus Graphics 650</td>\n",
       "      <td>2021-06-13 22:31:11</td>\n",
       "    </tr>\n",
       "    <tr>\n",
       "      <th>3</th>\n",
       "      <td>Windows 10</td>\n",
       "      <td>3.5</td>\n",
       "      <td>4</td>\n",
       "      <td>16</td>\n",
       "      <td>1000</td>\n",
       "      <td>NVIDIA GeForce GTX 1070 Ti</td>\n",
       "      <td>2021-06-14 13:31:30</td>\n",
       "    </tr>\n",
       "    <tr>\n",
       "      <th>4</th>\n",
       "      <td>MacOS</td>\n",
       "      <td>1.6</td>\n",
       "      <td>2</td>\n",
       "      <td>8</td>\n",
       "      <td>256</td>\n",
       "      <td>Intel HD Graphics 6000 1536 MB</td>\n",
       "      <td>2021-06-14 14:13:55</td>\n",
       "    </tr>\n",
       "  </tbody>\n",
       "</table>\n",
       "</div>"
      ],
      "text/plain": [
       "           os  cpu  cpu_core  ram  hard_drive                             gpu  \\\n",
       "0  Windows 10  1.8         4    8         256                   intel uhd 620   \n",
       "1  Windows 10  2.8         4   16         460    Intel(R) Iris(R) Xe Graphics   \n",
       "2       MacOS  3.1         2    8         512    Intel Iris Plus Graphics 650   \n",
       "3  Windows 10  3.5         4   16        1000      NVIDIA GeForce GTX 1070 Ti   \n",
       "4       MacOS  1.6         2    8         256  Intel HD Graphics 6000 1536 MB   \n",
       "\n",
       "           timestamp2  \n",
       "0 2021-06-12 23:05:22  \n",
       "1 2021-06-13 20:36:02  \n",
       "2 2021-06-13 22:31:11  \n",
       "3 2021-06-14 13:31:30  \n",
       "4 2021-06-14 14:13:55  "
      ]
     },
     "execution_count": 77,
     "metadata": {},
     "output_type": "execute_result"
    }
   ],
   "source": [
    "df2 = df.drop(columns = 'timestamp')\n",
    "df2.head()"
   ]
  },
  {
   "cell_type": "code",
   "execution_count": 78,
   "id": "127bb7f5-3df1-41df-9ee8-a9e0ee790c51",
   "metadata": {},
   "outputs": [
    {
     "data": {
      "text/plain": [
       "[<matplotlib.lines.Line2D at 0x7fa554dc8c50>]"
      ]
     },
     "execution_count": 78,
     "metadata": {},
     "output_type": "execute_result"
    },
    {
     "data": {
      "image/png": "[encoded data removed]",
      "text/plain": [
       "<Figure size 432x288 with 1 Axes>"
      ]
     },
     "metadata": {
      "needs_background": "light"
     },
     "output_type": "display_data"
    }
   ],
   "source": [
    "# Plotting time series data with a timestamp\n",
    "plt.plot(df2.timestamp2, df2.ram)"
   ]
  },
  {
   "cell_type": "code",
   "execution_count": null,
   "id": "18878eda-6a42-438d-9047-064e53e458ef",
   "metadata": {},
   "outputs": [],
   "source": []
  }
 ],
 "metadata": {
  "kernelspec": {
   "display_name": "Python 3 (ipykernel)",
   "language": "python",
   "name": "python3"
  },
  "language_info": {
   "codemirror_mode": {
    "name": "ipython",
    "version": 3
   },
   "file_extension": ".py",
   "mimetype": "text/x-python",
   "name": "python",
   "nbconvert_exporter": "python",
   "pygments_lexer": "ipython3",
   "version": "3.7.6"
  }
 },
 "nbformat": 4,
 "nbformat_minor": 5
}
