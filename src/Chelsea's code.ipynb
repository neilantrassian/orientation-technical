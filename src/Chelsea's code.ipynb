{
 "cells": [
  {
   "cell_type": "code",
   "execution_count": null,
   "metadata": {},
   "outputs": [],
   "source": [
    "# IMPORTS\n",
    "import pandas as pd;\n",
    "import matplotlib.pyplot as plt;\n",
    "\n",
    "# READ FILE\n",
    "df = pd.read_csv('2022-06-14-survey.csv');\n",
    "\n",
    "# REMOVE OLD DATA\n",
    "df = df.drop(1).head()\n",
    "\n",
    "# CREATE HISTOGRAM\n",
    "plt.hist(df['CPU Cycle Rate (in GHz)'], alpha=.5, color=\"teal\")\n",
    "plt.hist(df['CPU Number of Cores (int)'], bins=10, alpha=.5, color=\"goldenrod\")"
   ]
  }
 ],
 "metadata": {
  "language_info": {
   "name": "python"
  },
  "orig_nbformat": 4
 },
 "nbformat": 4,
 "nbformat_minor": 2
}
